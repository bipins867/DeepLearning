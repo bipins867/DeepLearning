{
 "cells": [
  {
   "cell_type": "code",
   "execution_count": 21,
   "id": "69fb58d3",
   "metadata": {},
   "outputs": [],
   "source": [
    "from tensorflow.keras.datasets import cifar10\n",
    "import tensorflow as tf\n"
   ]
  },
  {
   "cell_type": "code",
   "execution_count": 22,
   "id": "cade9865",
   "metadata": {
    "scrolled": true
   },
   "outputs": [],
   "source": [
    "data=cifar10.load_data()"
   ]
  },
  {
   "cell_type": "code",
   "execution_count": 23,
   "id": "44ca94a8",
   "metadata": {},
   "outputs": [],
   "source": [
    "(x_train,y_train),(x_test,y_test)=cifar10.load_data()\n",
    "x_train=x_train/100\n",
    "x_test=x_test/100"
   ]
  },
  {
   "cell_type": "code",
   "execution_count": 24,
   "id": "5c01af4d",
   "metadata": {},
   "outputs": [],
   "source": [
    "import matplotlib.pyplot as plt"
   ]
  },
  {
   "cell_type": "code",
   "execution_count": 25,
   "id": "31e5f97d",
   "metadata": {},
   "outputs": [],
   "source": [
    "classes = [\"airplane\",\"automobile\",\"bird\",\"cat\",\"deer\",\"dog\",\"frog\",\"horse\",\"ship\",\"truck\"]"
   ]
  },
  {
   "cell_type": "code",
   "execution_count": 26,
   "id": "926b492d",
   "metadata": {},
   "outputs": [],
   "source": [
    "from tensorflow.keras.models import *\n",
    "from tensorflow.keras.layers import *"
   ]
  },
  {
   "cell_type": "code",
   "execution_count": 27,
   "id": "7341f3dd",
   "metadata": {},
   "outputs": [],
   "source": [
    "def getModel():\n",
    "    model=Sequential([\n",
    "    Flatten(input_shape=(32,32,3)),\n",
    "    Dense(4000,activation='relu'),\n",
    "    Dense(4000,activation='relu'),\n",
    "    Dense(10,activation='sigmoid')\n",
    "    ])\n",
    "    model.compile(optimizer='SGD',loss='sparse_categorical_crossentropy',metrics=['accuracy'])\n",
    "    \n",
    "    return model\n",
    "    "
   ]
  },
  {
   "cell_type": "code",
   "execution_count": 28,
   "id": "24fa6f26",
   "metadata": {},
   "outputs": [],
   "source": [
    "model =getModel()\n"
   ]
  },
  {
   "cell_type": "code",
   "execution_count": 29,
   "id": "1fa02ec9",
   "metadata": {},
   "outputs": [
    {
     "name": "stdout",
     "output_type": "stream",
     "text": [
      "Epoch 1/50\n",
      "1563/1563 [==============================] - 10s 6ms/step - loss: 1.7691 - accuracy: 0.3750\n",
      "Epoch 2/50\n",
      "1563/1563 [==============================] - 10s 6ms/step - loss: 1.5576 - accuracy: 0.4495\n",
      "Epoch 3/50\n",
      "1563/1563 [==============================] - 10s 6ms/step - loss: 1.4666 - accuracy: 0.4824\n",
      "Epoch 4/50\n",
      "1563/1563 [==============================] - 10s 6ms/step - loss: 1.3936 - accuracy: 0.5092\n",
      "Epoch 5/50\n",
      "1563/1563 [==============================] - 10s 6ms/step - loss: 1.3340 - accuracy: 0.5297\n",
      "Epoch 6/50\n",
      "1563/1563 [==============================] - 10s 6ms/step - loss: 1.2799 - accuracy: 0.5514\n",
      "Epoch 7/50\n",
      "1563/1563 [==============================] - 10s 6ms/step - loss: 1.2287 - accuracy: 0.5713\n",
      "Epoch 8/50\n",
      "1563/1563 [==============================] - 10s 6ms/step - loss: 1.1809 - accuracy: 0.5853\n",
      "Epoch 9/50\n",
      "1563/1563 [==============================] - 10s 6ms/step - loss: 1.1329 - accuracy: 0.6046\n",
      "Epoch 10/50\n",
      "1563/1563 [==============================] - 10s 6ms/step - loss: 1.0897 - accuracy: 0.6203\n",
      "Epoch 11/50\n",
      "1563/1563 [==============================] - 10s 6ms/step - loss: 1.0430 - accuracy: 0.6368\n",
      "Epoch 12/50\n",
      "1563/1563 [==============================] - 10s 6ms/step - loss: 0.9984 - accuracy: 0.6545\n",
      "Epoch 13/50\n",
      "1563/1563 [==============================] - 10s 7ms/step - loss: 0.9531 - accuracy: 0.6697\n",
      "Epoch 14/50\n",
      "1563/1563 [==============================] - 10s 6ms/step - loss: 0.9076 - accuracy: 0.6869\n",
      "Epoch 15/50\n",
      "1563/1563 [==============================] - 10s 7ms/step - loss: 0.8657 - accuracy: 0.7007\n",
      "Epoch 16/50\n",
      "1563/1563 [==============================] - 11s 7ms/step - loss: 0.8215 - accuracy: 0.7184\n",
      "Epoch 17/50\n",
      "1563/1563 [==============================] - 10s 6ms/step - loss: 0.7754 - accuracy: 0.7362\n",
      "Epoch 18/50\n",
      "1563/1563 [==============================] - 10s 7ms/step - loss: 0.7334 - accuracy: 0.7496\n",
      "Epoch 19/50\n",
      "1563/1563 [==============================] - 10s 7ms/step - loss: 0.6902 - accuracy: 0.7660\n",
      "Epoch 20/50\n",
      "1563/1563 [==============================] - 10s 7ms/step - loss: 0.6485 - accuracy: 0.7814\n",
      "Epoch 21/50\n",
      "1563/1563 [==============================] - 10s 6ms/step - loss: 0.6080 - accuracy: 0.7959\n",
      "Epoch 22/50\n",
      "1563/1563 [==============================] - 10s 6ms/step - loss: 0.5634 - accuracy: 0.8115\n",
      "Epoch 23/50\n",
      "1563/1563 [==============================] - 10s 6ms/step - loss: 0.5253 - accuracy: 0.8264\n",
      "Epoch 24/50\n",
      "1563/1563 [==============================] - 10s 7ms/step - loss: 0.4843 - accuracy: 0.8421\n",
      "Epoch 25/50\n",
      "1563/1563 [==============================] - 10s 6ms/step - loss: 0.4472 - accuracy: 0.8563\n",
      "Epoch 26/50\n",
      "1563/1563 [==============================] - 10s 6ms/step - loss: 0.4107 - accuracy: 0.8691\n",
      "Epoch 27/50\n",
      "1563/1563 [==============================] - 10s 6ms/step - loss: 0.3754 - accuracy: 0.8817\n",
      "Epoch 28/50\n",
      "1563/1563 [==============================] - 10s 6ms/step - loss: 0.3472 - accuracy: 0.8917\n",
      "Epoch 29/50\n",
      "1563/1563 [==============================] - 10s 6ms/step - loss: 0.3131 - accuracy: 0.9039\n",
      "Epoch 30/50\n",
      "1563/1563 [==============================] - 10s 6ms/step - loss: 0.2820 - accuracy: 0.9163\n",
      "Epoch 31/50\n",
      "1563/1563 [==============================] - 10s 6ms/step - loss: 0.2589 - accuracy: 0.9251\n",
      "Epoch 32/50\n",
      "1563/1563 [==============================] - 10s 6ms/step - loss: 0.2293 - accuracy: 0.9356\n",
      "Epoch 33/50\n",
      "1563/1563 [==============================] - 10s 6ms/step - loss: 0.2073 - accuracy: 0.9423\n",
      "Epoch 34/50\n",
      "1563/1563 [==============================] - 10s 6ms/step - loss: 0.1792 - accuracy: 0.9518\n",
      "Epoch 35/50\n",
      "1563/1563 [==============================] - 10s 6ms/step - loss: 0.1712 - accuracy: 0.9545\n",
      "Epoch 36/50\n",
      "1563/1563 [==============================] - 10s 6ms/step - loss: 0.1490 - accuracy: 0.9609\n",
      "Epoch 37/50\n",
      "1563/1563 [==============================] - 10s 6ms/step - loss: 0.1285 - accuracy: 0.9691\n",
      "Epoch 38/50\n",
      "1563/1563 [==============================] - 10s 6ms/step - loss: 0.1134 - accuracy: 0.9732\n",
      "Epoch 39/50\n",
      "1563/1563 [==============================] - 10s 6ms/step - loss: 0.0996 - accuracy: 0.9774\n",
      "Epoch 40/50\n",
      "1563/1563 [==============================] - 10s 6ms/step - loss: 0.0866 - accuracy: 0.9815\n",
      "Epoch 41/50\n",
      "1563/1563 [==============================] - 10s 6ms/step - loss: 0.0776 - accuracy: 0.9839\n",
      "Epoch 42/50\n",
      "1563/1563 [==============================] - 10s 7ms/step - loss: 0.0673 - accuracy: 0.9875\n",
      "Epoch 43/50\n",
      "1563/1563 [==============================] - 10s 7ms/step - loss: 0.0569 - accuracy: 0.9901\n",
      "Epoch 44/50\n",
      "1563/1563 [==============================] - 10s 7ms/step - loss: 0.0519 - accuracy: 0.9911\n",
      "Epoch 45/50\n",
      "1563/1563 [==============================] - 10s 6ms/step - loss: 0.0439 - accuracy: 0.9933\n",
      "Epoch 46/50\n",
      "1563/1563 [==============================] - 10s 6ms/step - loss: 0.0390 - accuracy: 0.9941\n",
      "Epoch 47/50\n",
      "1563/1563 [==============================] - 10s 6ms/step - loss: 0.0325 - accuracy: 0.9960\n",
      "Epoch 48/50\n",
      "1563/1563 [==============================] - 10s 6ms/step - loss: 0.0317 - accuracy: 0.9956\n",
      "Epoch 49/50\n",
      "1563/1563 [==============================] - 10s 6ms/step - loss: 0.0257 - accuracy: 0.9970\n",
      "Epoch 50/50\n",
      "1563/1563 [==============================] - 10s 6ms/step - loss: 0.0223 - accuracy: 0.9981\n"
     ]
    }
   ],
   "source": [
    "with tf.device('/GPU:0'):\n",
    "    model.fit(x_train,y_train,epochs=50)"
   ]
  },
  {
   "cell_type": "code",
   "execution_count": 64,
   "id": "1863f607",
   "metadata": {},
   "outputs": [
    {
     "name": "stdout",
     "output_type": "stream",
     "text": [
      "313/313 [==============================] - 1s 3ms/step - loss: 1.9315 - accuracy: 0.5771\n"
     ]
    },
    {
     "data": {
      "text/plain": [
       "[1.9315112829208374, 0.5770999789237976]"
      ]
     },
     "execution_count": 64,
     "metadata": {},
     "output_type": "execute_result"
    }
   ],
   "source": [
    "model.evaluate(x_test,y_test)"
   ]
  },
  {
   "cell_type": "code",
   "execution_count": 32,
   "id": "6b868946",
   "metadata": {},
   "outputs": [
    {
     "name": "stdout",
     "output_type": "stream",
     "text": [
      "313/313 [==============================] - 1s 2ms/step\n"
     ]
    }
   ],
   "source": [
    "yp=model.predict(x_test)"
   ]
  },
  {
   "cell_type": "code",
   "execution_count": 38,
   "id": "4ac6742b",
   "metadata": {},
   "outputs": [],
   "source": [
    "from sklearn.metrics import confusion_matrix"
   ]
  },
  {
   "cell_type": "code",
   "execution_count": 40,
   "id": "1ed726c4",
   "metadata": {},
   "outputs": [
    {
     "data": {
      "text/plain": [
       "(10000, 10)"
      ]
     },
     "execution_count": 40,
     "metadata": {},
     "output_type": "execute_result"
    }
   ],
   "source": [
    "yp.shape"
   ]
  },
  {
   "cell_type": "code",
   "execution_count": 41,
   "id": "16ae493d",
   "metadata": {},
   "outputs": [
    {
     "data": {
      "text/plain": [
       "(10000, 1)"
      ]
     },
     "execution_count": 41,
     "metadata": {},
     "output_type": "execute_result"
    }
   ],
   "source": [
    "y_test.shape"
   ]
  },
  {
   "cell_type": "code",
   "execution_count": 44,
   "id": "dc81e06a",
   "metadata": {},
   "outputs": [],
   "source": [
    "import numpy as np"
   ]
  },
  {
   "cell_type": "code",
   "execution_count": 59,
   "id": "335023d0",
   "metadata": {},
   "outputs": [],
   "source": [
    "def pred(i):\n",
    "    pr=np.argmax(model.predict([x_test[i].tolist()],verbose=0))\n",
    "    print(\"Predicted : \",classes[pr],\"\\nCorrect   : \",classes[y_test[i][0]])\n",
    "    "
   ]
  },
  {
   "cell_type": "code",
   "execution_count": 65,
   "id": "fcc37259",
   "metadata": {},
   "outputs": [
    {
     "name": "stdout",
     "output_type": "stream",
     "text": [
      "Predicted :  cat \n",
      "Correct   :  cat\n",
      "-----------------\n",
      "Predicted :  ship \n",
      "Correct   :  ship\n",
      "-----------------\n",
      "Predicted :  ship \n",
      "Correct   :  ship\n",
      "-----------------\n",
      "Predicted :  airplane \n",
      "Correct   :  airplane\n",
      "-----------------\n",
      "Predicted :  frog \n",
      "Correct   :  frog\n",
      "-----------------\n",
      "Predicted :  frog \n",
      "Correct   :  frog\n",
      "-----------------\n",
      "Predicted :  automobile \n",
      "Correct   :  automobile\n",
      "-----------------\n",
      "Predicted :  frog \n",
      "Correct   :  frog\n",
      "-----------------\n",
      "Predicted :  cat \n",
      "Correct   :  cat\n",
      "-----------------\n",
      "Predicted :  automobile \n",
      "Correct   :  automobile\n",
      "-----------------\n"
     ]
    }
   ],
   "source": [
    "for i in range(10):\n",
    "    pred(i)\n",
    "    print('-----------------')"
   ]
  },
  {
   "cell_type": "code",
   "execution_count": null,
   "id": "1bc91a89",
   "metadata": {},
   "outputs": [],
   "source": []
  },
  {
   "cell_type": "code",
   "execution_count": null,
   "id": "7d728fa9",
   "metadata": {},
   "outputs": [],
   "source": []
  }
 ],
 "metadata": {
  "kernelspec": {
   "display_name": "Python 3 (ipykernel)",
   "language": "python",
   "name": "python3"
  },
  "language_info": {
   "codemirror_mode": {
    "name": "ipython",
    "version": 3
   },
   "file_extension": ".py",
   "mimetype": "text/x-python",
   "name": "python",
   "nbconvert_exporter": "python",
   "pygments_lexer": "ipython3",
   "version": "3.8.0"
  }
 },
 "nbformat": 4,
 "nbformat_minor": 5
}
