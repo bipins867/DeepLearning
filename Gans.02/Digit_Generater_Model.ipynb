{
 "cells": [
  {
   "cell_type": "code",
   "execution_count": 61,
   "id": "3f76ba31",
   "metadata": {},
   "outputs": [],
   "source": [
    "%matplotlib inline\n",
    "import tensorflow as tf\n",
    "from tensorflow.keras.models import *\n",
    "from tensorflow.keras.layers import *\n",
    "import numpy as np\n",
    "import matplotlib.pyplot as plt\n",
    "from tensorflow.keras.optimizers import Adam"
   ]
  },
  {
   "cell_type": "code",
   "execution_count": 62,
   "id": "c499cb06",
   "metadata": {},
   "outputs": [],
   "source": [
    "(x_train,y_train),(_,_)=tf.keras.datasets.mnist.load_data()"
   ]
  },
  {
   "cell_type": "code",
   "execution_count": 63,
   "id": "fe2154fd",
   "metadata": {},
   "outputs": [
    {
     "data": {
      "text/plain": [
       "(60000, 28, 28)"
      ]
     },
     "execution_count": 63,
     "metadata": {},
     "output_type": "execute_result"
    }
   ],
   "source": [
    "x_train.shape"
   ]
  },
  {
   "cell_type": "code",
   "execution_count": 64,
   "id": "e8e27a17",
   "metadata": {},
   "outputs": [
    {
     "data": {
      "text/plain": [
       "(60000,)"
      ]
     },
     "execution_count": 64,
     "metadata": {},
     "output_type": "execute_result"
    }
   ],
   "source": [
    "y_train.shape"
   ]
  },
  {
   "cell_type": "code",
   "execution_count": 65,
   "id": "fe9bdab0",
   "metadata": {
    "scrolled": true
   },
   "outputs": [
    {
     "data": {
      "image/png": "[encoded data removed]",
      "text/plain": [
       "<Figure size 1200x600 with 10 Axes>"
      ]
     },
     "metadata": {},
     "output_type": "display_data"
    }
   ],
   "source": [
    "fig, axs = plt.subplots(2, 5, sharey=False, tight_layout=True, figsize=(12,6), facecolor='white')\n",
    "n=0\n",
    "for i in range(0,2):\n",
    "    for j in range(0,5):\n",
    "        axs[i,j].matshow(x_train[n], cmap='gray')\n",
    "        axs[i,j].set(title=y_train[n])\n",
    "        axs[i,j].axis('off')\n",
    "        n=n+1\n",
    "plt.show() "
   ]
  },
  {
   "cell_type": "code",
   "execution_count": 66,
   "id": "91e7fda0",
   "metadata": {},
   "outputs": [],
   "source": [
    "data=x_train.copy()\n",
    "data=data.reshape(x_train.shape[0],28,28,1)"
   ]
  },
  {
   "cell_type": "code",
   "execution_count": 67,
   "id": "c521c312",
   "metadata": {},
   "outputs": [
    {
     "data": {
      "text/plain": [
       "(60000, 28, 28, 1)"
      ]
     },
     "execution_count": 67,
     "metadata": {},
     "output_type": "execute_result"
    }
   ],
   "source": [
    "data.shape\n"
   ]
  },
  {
   "cell_type": "code",
   "execution_count": 68,
   "id": "931b945d",
   "metadata": {},
   "outputs": [],
   "source": [
    "data=(data-127.5)/127.5"
   ]
  },
  {
   "cell_type": "code",
   "execution_count": 69,
   "id": "d466939c",
   "metadata": {},
   "outputs": [],
   "source": [
    "def generator(latent_dim,in_shape=(7,7,1),cat=10):\n",
    "    in_label=Input(shape=(1,))\n",
    "    lbs=Embedding(cat,50)(in_label)\n",
    "    \n",
    "    n_nodes=in_shape[0]*in_shape[1]\n",
    "    lbs=Dense(n_nodes)(lbs)\n",
    "    lbs=Reshape((in_shape[0],in_shape[1],1))(lbs)\n",
    "    \n",
    "    in_latent=Input(shape=latent_dim)\n",
    "    n_nodes=7*7*128\n",
    "    g=Dense(n_nodes)(in_latent)\n",
    "    g=ReLU()(g)\n",
    "    g=Reshape((in_shape[0],in_shape[1],128))(g)\n",
    "    \n",
    "    \n",
    "    concat=Concatenate()([g,lbs])\n",
    "    \n",
    "    g=Conv2DTranspose(filters=128,kernel_size=(4,4),strides=(2,2),padding='same')(concat)\n",
    "    g=ReLU()(g)\n",
    "    \n",
    "    g=Conv2DTranspose(filters=128, kernel_size=(4,4), strides=(2,2),padding='same')(g)\n",
    "    g=ReLU()(g)\n",
    "    \n",
    "    output=Conv2D(filters=1, kernel_size=(7,7), activation='tanh',padding='same')(g)\n",
    "    \n",
    "    model=Model([in_latent,in_label],output)\n",
    "    return model"
   ]
  },
  {
   "cell_type": "code",
   "execution_count": 70,
   "id": "e0f1e615",
   "metadata": {},
   "outputs": [],
   "source": [
    "gen_model=generator(100)"
   ]
  },
  {
   "cell_type": "code",
   "execution_count": 72,
   "id": "17510b24",
   "metadata": {},
   "outputs": [],
   "source": [
    "def discriminator(in_shape=(28,28,1),cats=10):\n",
    "    \n",
    "    in_label=Input(shape=(1,))\n",
    "    lbs=Embedding(cats,50)(in_label)\n",
    "    \n",
    "    n_nodes=in_shape[0]*in_shape[1]\n",
    "    lbs=Dense(n_nodes)(lbs)\n",
    "    lbs=Reshape((in_shape[0],in_shape[1],1))(lbs)\n",
    "    \n",
    "    \n",
    "    in_image=Input(shape=in_shape)\n",
    "    \n",
    "    concat=Concatenate()([in_image,lbs])\n",
    "    \n",
    "    \n",
    "    h=Conv2D(filters=64, kernel_size=(3,3), strides=(2,2),padding='same')(concat)\n",
    "    h=LeakyReLU(alpha=0.2)(h)\n",
    "    \n",
    "    h=Conv2D(filters=128, kernel_size=(3,3), strides=(2,2),padding='same')(h)\n",
    "    h=LeakyReLU(alpha=0.2)(h)\n",
    "    h=MaxPool2D(pool_size=(3,3),strides=(2,2))(h)\n",
    "    \n",
    "    h=Flatten()(h)\n",
    "    h=Dropout(0.2)(h)\n",
    "    \n",
    "    output=Dense(1,activation='sigmoid')(h)\n",
    "    \n",
    "    model=Model([in_image,in_label],output)\n",
    "    \n",
    "    model.compile(loss='binary_crossentropy',optimizer=Adam(learning_rate=0.0002, beta_1=0.5),metrics=['accuracy'])\n",
    "    \n",
    "    return model"
   ]
  },
  {
   "cell_type": "code",
   "execution_count": 73,
   "id": "11f9b8e9",
   "metadata": {},
   "outputs": [],
   "source": [
    "dis_model=discriminator()"
   ]
  },
  {
   "cell_type": "code",
   "execution_count": 74,
   "id": "cb591d76",
   "metadata": {},
   "outputs": [],
   "source": [
    "def define_gan(generator,discriminator):\n",
    "    discriminator.trainable=False\n",
    "    \n",
    "    gen_latent,gen_label=generator.input\n",
    "    gen_output=generator.output\n",
    "    \n",
    "    gan_output=discriminator([gen_output,gen_label])\n",
    "    \n",
    "    model=Model([gen_latent,gen_label],gan_output)\n",
    "    \n",
    "    model.compile(loss='binary_crossentropy',optimizer=Adam(learning_rate=0.0002, beta_1=0.5))\n",
    "    return model\n"
   ]
  },
  {
   "cell_type": "code",
   "execution_count": 75,
   "id": "b7fe976d",
   "metadata": {},
   "outputs": [],
   "source": [
    "gan_model=define_gan(gen_model,dis_model)"
   ]
  },
  {
   "cell_type": "code",
   "execution_count": 76,
   "id": "1ab89020",
   "metadata": {},
   "outputs": [],
   "source": [
    "def real_samples(dataset,categories,n):\n",
    "    indx=np.random.randint(0,dataset.shape[0],n)\n",
    "    x,cat_label=dataset[indx],categories[indx]\n",
    "    y=np.ones((n,1))\n",
    "    \n",
    "    return [x,cat_label],y\n"
   ]
  },
  {
   "cell_type": "code",
   "execution_count": 77,
   "id": "46e77b25",
   "metadata": {},
   "outputs": [],
   "source": [
    "def latent_vector(latent_dim,n,cats=10):\n",
    "    latent_input=np.random.randn(latent_dim*n)\n",
    "    latent_input=latent_input.reshape(n,latent_dim)\n",
    "    \n",
    "    cat_labels=np.random.randint(0,cats,n)\n",
    "    return [latent_input,cat_labels]"
   ]
  },
  {
   "cell_type": "code",
   "execution_count": 78,
   "id": "dbf4bb0d",
   "metadata": {},
   "outputs": [],
   "source": [
    "def fake_samples(generator,latent_dim,n):\n",
    "    latent_output,cat_labels=latent_vector(latent_dim,n)\n",
    "    x=generator.predict([latent_output, cat_labels],verbose=0)\n",
    "    y=np.zeros((n,1))\n",
    "    return [x,cat_labels],y\n"
   ]
  },
  {
   "cell_type": "code",
   "execution_count": 79,
   "id": "f7e504e4",
   "metadata": {},
   "outputs": [],
   "source": [
    "counter=0\n",
    "\n",
    "def show_fakes(generator,latent_dim,n=10):\n",
    "    global counter\n",
    "    counter+=1\n",
    "    x_fake, y_fake = fake_samples(generator, latent_dim, n)\n",
    "    \n",
    "    \n",
    "    X_tst = (x_fake[0] + 1) / 2.0\n",
    "    \n",
    "    \n",
    "    fig, axs = plt.subplots(2, 5, sharey=False, tight_layout=True, figsize=(12,6), facecolor='white')\n",
    "    k=0\n",
    "    for i in range(0,2):\n",
    "        for j in range(0,5):\n",
    "            axs[i,j].matshow(X_tst[k], cmap='gray')\n",
    "            axs[i,j].set(title=x_fake[1][k])\n",
    "            axs[i,j].axis('off')\n",
    "            k=k+1\n",
    "    plt.savefig(f\".\\\\Testing\\\\{counter}.png\")\n",
    "    #plt.show()\n",
    "    plt.close()"
   ]
  },
  {
   "cell_type": "code",
   "execution_count": 80,
   "id": "3da5bf7d",
   "metadata": {},
   "outputs": [],
   "source": [
    "def train(g_model, d_model, gan_model, dataset, categories, latent_dim, n_epochs=10, n_batch=128, n_eval=200):\n",
    "    \n",
    "    batch_per_epoch = int(dataset.shape[0] / n_batch)\n",
    "    print(' batch_per_epoch: ',  batch_per_epoch)\n",
    "    \n",
    "    half_batch = int(n_batch / 2)\n",
    "    \n",
    "    \n",
    "    for i in range(n_epochs):\n",
    "        \n",
    "        \n",
    "        for j in range(batch_per_epoch):\n",
    "    \n",
    "    \n",
    "            [x_real, cat_labels_real], y_real = real_samples(dataset, categories, half_batch)\n",
    "            \n",
    "            discriminator_loss1, _ = d_model.train_on_batch([x_real, cat_labels_real], y_real)\n",
    "            \n",
    "            [x_fake, cat_labels_fake], y_fake = fake_samples(g_model, latent_dim, half_batch)\n",
    "            \n",
    "            discriminator_loss2, _ = d_model.train_on_batch([x_fake, cat_labels_fake], y_fake)\n",
    "            \n",
    "\n",
    "            [latent_input, cat_labels] = latent_vector(latent_dim, n_batch)\n",
    "            \n",
    "            y_gan = np.ones((n_batch, 1))\n",
    "\n",
    "            \n",
    "            \n",
    "            generator_loss = gan_model.train_on_batch([latent_input, cat_labels], y_gan)\n",
    "            \n",
    "            \n",
    "            if (j) % n_eval == 0:\n",
    "                print('Epoch: %d, Batch: %d/%d, D_Loss_Real=%.3f, D_Loss_Fake=%.3f Gen_Loss=%.3f' % \n",
    "                      (i+1, j+1, batch_per_epoch, discriminator_loss1, discriminator_loss2, generator_loss))\n",
    "                show_fakes(g_model, latent_dim)\n"
   ]
  },
  {
   "cell_type": "code",
   "execution_count": 82,
   "id": "e0e0d807",
   "metadata": {},
   "outputs": [
    {
     "name": "stdout",
     "output_type": "stream",
     "text": [
      " batch_per_epoch:  468\n",
      "Epoch: 1, Batch: 1/468, D_Loss_Real=0.669, D_Loss_Fake=0.684 Gen_Loss=0.749\n",
      "Epoch: 1, Batch: 201/468, D_Loss_Real=0.666, D_Loss_Fake=0.701 Gen_Loss=0.717\n",
      "Epoch: 1, Batch: 401/468, D_Loss_Real=0.685, D_Loss_Fake=0.721 Gen_Loss=0.719\n",
      "Epoch: 2, Batch: 1/468, D_Loss_Real=0.669, D_Loss_Fake=0.702 Gen_Loss=0.708\n",
      "Epoch: 2, Batch: 201/468, D_Loss_Real=0.685, D_Loss_Fake=0.692 Gen_Loss=0.713\n",
      "Epoch: 2, Batch: 401/468, D_Loss_Real=0.697, D_Loss_Fake=0.687 Gen_Loss=0.727\n",
      "Epoch: 3, Batch: 1/468, D_Loss_Real=0.675, D_Loss_Fake=0.716 Gen_Loss=0.717\n",
      "Epoch: 3, Batch: 201/468, D_Loss_Real=0.704, D_Loss_Fake=0.687 Gen_Loss=0.724\n",
      "Epoch: 3, Batch: 401/468, D_Loss_Real=0.686, D_Loss_Fake=0.698 Gen_Loss=0.717\n",
      "Epoch: 4, Batch: 1/468, D_Loss_Real=0.702, D_Loss_Fake=0.671 Gen_Loss=0.732\n",
      "Epoch: 4, Batch: 201/468, D_Loss_Real=0.675, D_Loss_Fake=0.671 Gen_Loss=0.735\n",
      "Epoch: 4, Batch: 401/468, D_Loss_Real=0.696, D_Loss_Fake=0.686 Gen_Loss=0.717\n",
      "Epoch: 5, Batch: 1/468, D_Loss_Real=0.682, D_Loss_Fake=0.684 Gen_Loss=0.720\n",
      "Epoch: 5, Batch: 201/468, D_Loss_Real=0.694, D_Loss_Fake=0.684 Gen_Loss=0.727\n",
      "Epoch: 5, Batch: 401/468, D_Loss_Real=0.688, D_Loss_Fake=0.706 Gen_Loss=0.704\n",
      "Epoch: 6, Batch: 1/468, D_Loss_Real=0.686, D_Loss_Fake=0.710 Gen_Loss=0.713\n",
      "Epoch: 6, Batch: 201/468, D_Loss_Real=0.700, D_Loss_Fake=0.703 Gen_Loss=0.717\n",
      "Epoch: 6, Batch: 401/468, D_Loss_Real=0.680, D_Loss_Fake=0.676 Gen_Loss=0.734\n",
      "Epoch: 7, Batch: 1/468, D_Loss_Real=0.694, D_Loss_Fake=0.680 Gen_Loss=0.716\n",
      "Epoch: 7, Batch: 201/468, D_Loss_Real=0.694, D_Loss_Fake=0.697 Gen_Loss=0.716\n",
      "Epoch: 7, Batch: 401/468, D_Loss_Real=0.697, D_Loss_Fake=0.702 Gen_Loss=0.712\n",
      "Epoch: 8, Batch: 1/468, D_Loss_Real=0.682, D_Loss_Fake=0.700 Gen_Loss=0.729\n",
      "Epoch: 8, Batch: 201/468, D_Loss_Real=0.682, D_Loss_Fake=0.700 Gen_Loss=0.705\n",
      "Epoch: 8, Batch: 401/468, D_Loss_Real=0.683, D_Loss_Fake=0.684 Gen_Loss=0.709\n",
      "Epoch: 9, Batch: 1/468, D_Loss_Real=0.680, D_Loss_Fake=0.684 Gen_Loss=0.712\n",
      "Epoch: 9, Batch: 201/468, D_Loss_Real=0.690, D_Loss_Fake=0.701 Gen_Loss=0.720\n",
      "Epoch: 9, Batch: 401/468, D_Loss_Real=0.686, D_Loss_Fake=0.702 Gen_Loss=0.719\n",
      "Epoch: 10, Batch: 1/468, D_Loss_Real=0.689, D_Loss_Fake=0.692 Gen_Loss=0.712\n",
      "Epoch: 10, Batch: 201/468, D_Loss_Real=0.691, D_Loss_Fake=0.686 Gen_Loss=0.720\n",
      "Epoch: 10, Batch: 401/468, D_Loss_Real=0.688, D_Loss_Fake=0.694 Gen_Loss=0.720\n"
     ]
    }
   ],
   "source": [
    "\n",
    "train(gen_model, dis_model, gan_model, data, y_train, 100)\n",
    "\n",
    "\n",
    "#gen_model.compile(loss='binary_crossentropy', optimizer=Adam(learning_rate=0.0002, beta_1=0.5))\n",
    "\n",
    "#gen_model.save('.\\\\cgan_generator.h5')"
   ]
  },
  {
   "cell_type": "code",
   "execution_count": 83,
   "id": "84f1176c",
   "metadata": {},
   "outputs": [],
   "source": [
    "gen_model.compile(loss='binary_crossentropy', optimizer=Adam(learning_rate=0.0002, beta_1=0.5))"
   ]
  },
  {
   "cell_type": "code",
   "execution_count": 84,
   "id": "d09709a3",
   "metadata": {},
   "outputs": [],
   "source": [
    "gen_model.save('.\\\\cgan_generator.h5')"
   ]
  },
  {
   "cell_type": "code",
   "execution_count": null,
   "id": "eddb9fd4",
   "metadata": {},
   "outputs": [],
   "source": []
  }
 ],
 "metadata": {
  "kernelspec": {
   "display_name": "Python 3 (ipykernel)",
   "language": "python",
   "name": "python3"
  },
  "language_info": {
   "codemirror_mode": {
    "name": "ipython",
    "version": 3
   },
   "file_extension": ".py",
   "mimetype": "text/x-python",
   "name": "python",
   "nbconvert_exporter": "python",
   "pygments_lexer": "ipython3",
   "version": "3.8.0"
  }
 },
 "nbformat": 4,
 "nbformat_minor": 5
}
